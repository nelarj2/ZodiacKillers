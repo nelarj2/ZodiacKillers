{
 "cells": [
  {
   "cell_type": "code",
   "execution_count": 2,
   "metadata": {},
   "outputs": [
    {
     "name": "stdout",
     "output_type": "stream",
     "text": [
      "preprocessing train...\n",
      "language: en\n",
      "train sequence lengths:\n",
      "\tmean : 37\n",
      "\t95percentile : 100\n",
      "\t99percentile : 216\n"
     ]
    },
    {
     "name": "stderr",
     "output_type": "stream",
     "text": [
      "C:\\Users\\emilysallens\\AppData\\Roaming\\Python\\Python39\\site-packages\\ktrain\\utils.py:641: UserWarning: class_names implies classification but targets array contains float(s) instead of integers or strings\n",
      "  warnings.warn('class_names implies classification but targets array contains float(s) instead of integers or strings')\n"
     ]
    },
    {
     "data": {
      "text/html": [
       "\n",
       "<style>\n",
       "    /* Turns off some styling */\n",
       "    progress {\n",
       "        /* gets rid of default border in Firefox and Opera. */\n",
       "        border: none;\n",
       "        /* Needs to be in here for Safari polyfill so background images work as expected. */\n",
       "        background-size: auto;\n",
       "    }\n",
       "    .progress-bar-interrupted, .progress-bar-interrupted::-webkit-progress-bar {\n",
       "        background: #F44336;\n",
       "    }\n",
       "</style>\n"
      ],
      "text/plain": [
       "<IPython.core.display.HTML object>"
      ]
     },
     "metadata": {},
     "output_type": "display_data"
    },
    {
     "data": {
      "text/html": [],
      "text/plain": [
       "<IPython.core.display.HTML object>"
      ]
     },
     "metadata": {},
     "output_type": "display_data"
    },
    {
     "name": "stdout",
     "output_type": "stream",
     "text": [
      "Is Multi-Label? False\n",
      "preprocessing test...\n",
      "language: en\n",
      "test sequence lengths:\n",
      "\tmean : 36\n",
      "\t95percentile : 104\n",
      "\t99percentile : 193\n"
     ]
    },
    {
     "data": {
      "text/html": [
       "\n",
       "<style>\n",
       "    /* Turns off some styling */\n",
       "    progress {\n",
       "        /* gets rid of default border in Firefox and Opera. */\n",
       "        border: none;\n",
       "        /* Needs to be in here for Safari polyfill so background images work as expected. */\n",
       "        background-size: auto;\n",
       "    }\n",
       "    .progress-bar-interrupted, .progress-bar-interrupted::-webkit-progress-bar {\n",
       "        background: #F44336;\n",
       "    }\n",
       "</style>\n"
      ],
      "text/plain": [
       "<IPython.core.display.HTML object>"
      ]
     },
     "metadata": {},
     "output_type": "display_data"
    },
    {
     "data": {
      "text/html": [],
      "text/plain": [
       "<IPython.core.display.HTML object>"
      ]
     },
     "metadata": {},
     "output_type": "display_data"
    },
    {
     "name": "stdout",
     "output_type": "stream",
     "text": [
      "task: text classification\n",
      "Is Multi-Label? False\n",
      "maxlen is 128\n",
      "done.\n",
      "\n",
      "\n",
      "begin training using onecycle policy with max lr of 3e-05...\n",
      "Epoch 1/4\n",
      "37/37 [==============================] - 334s 8s/step - loss: 0.5767 - accuracy: 0.7551 - val_loss: 0.4372 - val_accuracy: 0.8283\n",
      "Epoch 2/4\n",
      "37/37 [==============================] - 271s 7s/step - loss: 0.4220 - accuracy: 0.8243 - val_loss: 0.3867 - val_accuracy: 0.8283\n",
      "Epoch 3/4\n",
      "37/37 [==============================] - 408s 11s/step - loss: 0.3637 - accuracy: 0.8243 - val_loss: 0.3694 - val_accuracy: 0.8283\n",
      "Epoch 4/4\n",
      "37/37 [==============================] - 530s 14s/step - loss: 0.2610 - accuracy: 0.8581 - val_loss: 0.3596 - val_accuracy: 0.8434\n",
      "7/7 [==============================] - 67s 8s/step\n",
      "              precision    recall  f1-score   support\n",
      "\n",
      "         0.0       0.85      0.99      0.91       164\n",
      "         1.0       0.71      0.15      0.24        34\n",
      "\n",
      "    accuracy                           0.84       198\n",
      "   macro avg       0.78      0.57      0.58       198\n",
      "weighted avg       0.83      0.84      0.80       198\n",
      "\n"
     ]
    }
   ],
   "source": [
    "## Code adapted from UIUC PS 590: Images and Text as Data\n",
    "## by Prof. Nora Webb Williams. She adapted from adapted \n",
    "## from Diyi Yang and crew at Georgia Tech.\n",
    "\n",
    "import ktrain\n",
    "import pandas as pd\n",
    "from ktrain import text as ktext\n",
    "from sklearn.model_selection import train_test_split\n",
    "from sklearn import metrics\n",
    "from sklearn.metrics import f1_score\n",
    "\n",
    "df = pd.read_csv(\"../Data/prelim_dataset.csv\")\n",
    "text = df['text'].to_list()\n",
    "labels = df['Islamophobic?'].to_list()\n",
    "target_name = ['Not islamophobic', 'Islamophobic']\n",
    "\n",
    "## Create train and test sets\n",
    "X_train, X_test, y_train, y_test = train_test_split(text, labels, random_state = 0)\n",
    "\n",
    "## Preprocess data\n",
    "trn, val, preproc = ktext.texts_from_array(x_train=X_train, y_train=y_train,\n",
    "                                          x_test=X_test, y_test=y_test,\n",
    "                                          class_names = target_name,\n",
    "                                          preprocess_mode='distilbert',\n",
    "                                          maxlen=128)\n",
    "\n",
    "## Building a model and a learner\n",
    "model = ktext.text_classifier('distilbert', train_data=trn, preproc=preproc)\n",
    "learner = ktrain.get_learner(model, train_data=trn, val_data=val, batch_size=16)\n",
    "\n",
    "## Train the model\n",
    "learner.fit_onecycle(3e-5, 4)\n",
    "\n",
    "## Predict on test set\n",
    "p = ktrain.get_predictor(model, preproc)\n",
    "y_pred = p.predict(X_test)\n",
    "\n",
    "## Reformat data\n",
    "y_pred_num = []\n",
    "for pred in y_pred:\n",
    "    rel_index = target_name.index(pred)\n",
    "    y_pred_num.append(rel_index)\n",
    "\n",
    "## Metrics\n",
    "print(metrics.classification_report(y_test, y_pred_num))\n",
    "print(\"Macro:\", f1_score(y_test, y_pred_num, average='macro'))\n",
    "print(\"Micro:\", f1_score(y_test, y_pred_num, average='micro'))"
   ]
  },
  {
   "cell_type": "code",
   "execution_count": 4,
   "metadata": {},
   "outputs": [
    {
     "name": "stdout",
     "output_type": "stream",
     "text": [
      "              precision    recall  f1-score   support\n",
      "\n",
      "         0.0       0.85      0.99      0.91       164\n",
      "         1.0       0.71      0.15      0.24        34\n",
      "\n",
      "    accuracy                           0.84       198\n",
      "   macro avg       0.78      0.57      0.58       198\n",
      "weighted avg       0.83      0.84      0.80       198\n",
      "\n",
      "Macro: 0.5782892476812093\n",
      "Micro: 0.8434343434343435\n"
     ]
    }
   ],
   "source": [
    "from sklearn.metrics import f1_score\n",
    "\n",
    "print(metrics.classification_report(y_test, y_pred_num))\n",
    "print(\"Macro:\", f1_score(y_test, y_pred_num, average='macro'))\n",
    "print(\"Micro:\", f1_score(y_test, y_pred_num, average='micro'))"
   ]
  }
 ],
 "metadata": {
  "kernelspec": {
   "display_name": "Python 3.9.1 64-bit",
   "language": "python",
   "name": "python3"
  },
  "language_info": {
   "codemirror_mode": {
    "name": "ipython",
    "version": 3
   },
   "file_extension": ".py",
   "mimetype": "text/x-python",
   "name": "python",
   "nbconvert_exporter": "python",
   "pygments_lexer": "ipython3",
   "version": "3.9.1"
  },
  "orig_nbformat": 4,
  "vscode": {
   "interpreter": {
    "hash": "81794d4967e6c3204c66dcd87b604927b115b27c00565d3d43f05ba2f3a2cb0d"
   }
  }
 },
 "nbformat": 4,
 "nbformat_minor": 2
}
