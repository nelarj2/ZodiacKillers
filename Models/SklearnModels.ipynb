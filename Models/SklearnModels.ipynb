{
 "cells": [
  {
   "cell_type": "code",
   "execution_count": 4,
   "metadata": {},
   "outputs": [
    {
     "name": "stdout",
     "output_type": "stream",
     "text": [
      "LINEAR SVC\n",
      "With weights               precision    recall  f1-score   support\n",
      "\n",
      "         0.0       0.89      0.92      0.90       164\n",
      "         1.0       0.54      0.44      0.48        34\n",
      "\n",
      "    accuracy                           0.84       198\n",
      "   macro avg       0.71      0.68      0.69       198\n",
      "weighted avg       0.83      0.84      0.83       198\n",
      "\n",
      "Macro: 0.6940312922542013\n",
      "Micro: 0.8383838383838383\n",
      "Without weights               precision    recall  f1-score   support\n",
      "\n",
      "         0.0       0.86      0.97      0.91       164\n",
      "         1.0       0.64      0.26      0.37        34\n",
      "\n",
      "    accuracy                           0.85       198\n",
      "   macro avg       0.75      0.62      0.64       198\n",
      "weighted avg       0.83      0.85      0.82       198\n",
      "\n",
      "Macro: 0.6443965517241379\n",
      "Micro: 0.8484848484848486\n"
     ]
    }
   ],
   "source": [
    "## Code adapted from UIUC PS 590: Images and Text as Data\n",
    "## by Prof. Nora Webb Williams. She adapted from Diyi Yang \n",
    "## and crew at Georgia Tech.\n",
    "from sklearn.model_selection import train_test_split\n",
    "from sklearn.feature_extraction.text import TfidfVectorizer\n",
    "import pandas as pd\n",
    "from sklearn.feature_extraction.text import TfidfVectorizer\n",
    "from sklearn.metrics import accuracy_score\n",
    "from sklearn.metrics import f1_score\n",
    "from sklearn.naive_bayes import MultinomialNB\n",
    "from sklearn.linear_model import LogisticRegression\n",
    "from sklearn.svm import LinearSVC\n",
    "from sklearn.naive_bayes import BernoulliNB\n",
    "from sklearn import metrics\n",
    "\n",
    "df = pd.read_csv(\"../Data/prelim_dataset.csv\")\n",
    "text = df['text'].to_list()\n",
    "labels = df['Islamophobic?'].to_list()\n",
    "tfidf = TfidfVectorizer(ngram_range=(1, 2), stop_words='english')\n",
    "features = tfidf.fit_transform(text)\n",
    "\n",
    "## We first split the original data into train and test set\n",
    "X_train, X_test, y_train, y_test = train_test_split(text, labels, random_state = 0)\n",
    "\n",
    "## Extract features\n",
    "tfidf = TfidfVectorizer(ngram_range=(1, 2), stop_words='english')\n",
    "tfidf.fit(X_train)\n",
    "X_train_features = tfidf.transform(X_train)\n",
    "X_test_features = tfidf.transform(X_test)\n",
    "\n",
    "clf = LinearSVC(class_weight={0: 1, 1: 5}).fit(X_train_features, y_train)\n",
    "## predict labels for test data\n",
    "y_pred = clf.predict(X_test_features)\n",
    "\n",
    "print(\"LINEAR SVC\")\n",
    "## Metrics\n",
    "print('With weights', metrics.classification_report(y_test, y_pred))\n",
    "print(\"Macro:\", f1_score(y_test, y_pred, average='macro'))\n",
    "print(\"Micro:\", f1_score(y_test, y_pred, average='micro'))\n",
    "\n",
    "clf = LinearSVC().fit(X_train_features, y_train)\n",
    "# predict labels for test data\n",
    "y_pred = clf.predict(X_test_features)\n",
    "\n",
    "## Metrics\n",
    "print('Without weights', metrics.classification_report(y_test, y_pred))\n",
    "print(\"Macro:\", f1_score(y_test, y_pred, average='macro'))\n",
    "print(\"Micro:\", f1_score(y_test, y_pred, average='micro'))\n"
   ]
  },
  {
   "cell_type": "code",
   "execution_count": 68,
   "metadata": {},
   "outputs": [
    {
     "name": "stdout",
     "output_type": "stream",
     "text": [
      "LOGIT\n",
      "With weights               precision    recall  f1-score   support\n",
      "\n",
      "         0.0       0.90      0.88      0.89       164\n",
      "         1.0       0.47      0.50      0.49        34\n",
      "\n",
      "    accuracy                           0.82       198\n",
      "   macro avg       0.68      0.69      0.69       198\n",
      "weighted avg       0.82      0.82      0.82       198\n",
      "\n",
      "Macro: 0.6876424189307625\n",
      "Micro: 0.8181818181818182\n",
      "Without weights               precision    recall  f1-score   support\n",
      "\n",
      "         0.0       0.83      1.00      0.91       164\n",
      "         1.0       0.00      0.00      0.00        34\n",
      "\n",
      "    accuracy                           0.83       198\n",
      "   macro avg       0.41      0.50      0.45       198\n",
      "weighted avg       0.69      0.83      0.75       198\n",
      "\n",
      "Macro: 0.4530386740331492\n",
      "Micro: 0.8282828282828283\n"
     ]
    },
    {
     "name": "stderr",
     "output_type": "stream",
     "text": [
      "c:\\Python39\\lib\\site-packages\\sklearn\\metrics\\_classification.py:1245: UndefinedMetricWarning: Precision and F-score are ill-defined and being set to 0.0 in labels with no predicted samples. Use `zero_division` parameter to control this behavior.\n",
      "  _warn_prf(average, modifier, msg_start, len(result))\n",
      "c:\\Python39\\lib\\site-packages\\sklearn\\metrics\\_classification.py:1245: UndefinedMetricWarning: Precision and F-score are ill-defined and being set to 0.0 in labels with no predicted samples. Use `zero_division` parameter to control this behavior.\n",
      "  _warn_prf(average, modifier, msg_start, len(result))\n",
      "c:\\Python39\\lib\\site-packages\\sklearn\\metrics\\_classification.py:1245: UndefinedMetricWarning: Precision and F-score are ill-defined and being set to 0.0 in labels with no predicted samples. Use `zero_division` parameter to control this behavior.\n",
      "  _warn_prf(average, modifier, msg_start, len(result))\n"
     ]
    }
   ],
   "source": [
    "\n",
    "clf = LogisticRegression(class_weight={0: 1, 1: 5}).fit(X_train_features, y_train)\n",
    "## predict labels for test data\n",
    "y_pred = clf.predict(X_test_features)\n",
    "\n",
    "print(\"LOGIT\")\n",
    "# f1_score(y_test, y_pred, average='micro')\n",
    "print('With weights', metrics.classification_report(y_test, y_pred))\n",
    "print(\"Macro:\", f1_score(y_test, y_pred, average='macro'))\n",
    "print(\"Micro:\", f1_score(y_test, y_pred, average='micro'))\n",
    "\n",
    "clf = LogisticRegression().fit(X_train_features, y_train)\n",
    "# predict labels for test data\n",
    "y_pred = clf.predict(X_test_features)\n",
    "\n",
    "print('Without weights', metrics.classification_report(y_test, y_pred))\n",
    "print(\"Macro:\", f1_score(y_test, y_pred, average='macro'))\n",
    "print(\"Micro:\", f1_score(y_test, y_pred, average='micro'))"
   ]
  },
  {
   "cell_type": "markdown",
   "metadata": {},
   "source": [
    "Naive Bayes"
   ]
  },
  {
   "cell_type": "code",
   "execution_count": 69,
   "metadata": {},
   "outputs": [
    {
     "name": "stdout",
     "output_type": "stream",
     "text": [
      "MULTINOMIAL NB\n",
      "Without weights               precision    recall  f1-score   support\n",
      "\n",
      "         0.0       0.83      1.00      0.91       164\n",
      "         1.0       0.00      0.00      0.00        34\n",
      "\n",
      "    accuracy                           0.83       198\n",
      "   macro avg       0.41      0.50      0.45       198\n",
      "weighted avg       0.69      0.83      0.75       198\n",
      "\n",
      "Macro: 0.4530386740331492\n",
      "Micro: 0.8282828282828283\n"
     ]
    },
    {
     "name": "stderr",
     "output_type": "stream",
     "text": [
      "c:\\Python39\\lib\\site-packages\\sklearn\\metrics\\_classification.py:1245: UndefinedMetricWarning: Precision and F-score are ill-defined and being set to 0.0 in labels with no predicted samples. Use `zero_division` parameter to control this behavior.\n",
      "  _warn_prf(average, modifier, msg_start, len(result))\n",
      "c:\\Python39\\lib\\site-packages\\sklearn\\metrics\\_classification.py:1245: UndefinedMetricWarning: Precision and F-score are ill-defined and being set to 0.0 in labels with no predicted samples. Use `zero_division` parameter to control this behavior.\n",
      "  _warn_prf(average, modifier, msg_start, len(result))\n",
      "c:\\Python39\\lib\\site-packages\\sklearn\\metrics\\_classification.py:1245: UndefinedMetricWarning: Precision and F-score are ill-defined and being set to 0.0 in labels with no predicted samples. Use `zero_division` parameter to control this behavior.\n",
      "  _warn_prf(average, modifier, msg_start, len(result))\n"
     ]
    }
   ],
   "source": [
    "clf = MultinomialNB().fit(X_train_features, y_train)\n",
    "y_pred = clf.predict(X_test_features)\n",
    "\n",
    "print(\"MULTINOMIAL NB\")\n",
    "print('Without weights', metrics.classification_report(y_test, y_pred))\n",
    "print(\"Macro:\", f1_score(y_test, y_pred, average='macro'))\n",
    "print(\"Micro:\", f1_score(y_test, y_pred, average='micro'))\n",
    "\n",
    "clf = BernoulliNB().fit(X_train_features, y_train)\n",
    "y_pred = clf.predict(X_test_features)\n",
    "\n",
    "print(\"BERNOULLI NB\")\n",
    "print('Without weights', metrics.classification_report(y_test, y_pred))\n",
    "print(\"Macro:\", f1_score(y_test, y_pred, average='macro'))\n",
    "print(\"Micro:\", f1_score(y_test, y_pred, average='micro'))"
   ]
  }
 ],
 "metadata": {
  "kernelspec": {
   "display_name": "Python 3.9.1 64-bit",
   "language": "python",
   "name": "python3"
  },
  "language_info": {
   "codemirror_mode": {
    "name": "ipython",
    "version": 3
   },
   "file_extension": ".py",
   "mimetype": "text/x-python",
   "name": "python",
   "nbconvert_exporter": "python",
   "pygments_lexer": "ipython3",
   "version": "3.9.1"
  },
  "orig_nbformat": 4,
  "vscode": {
   "interpreter": {
    "hash": "81794d4967e6c3204c66dcd87b604927b115b27c00565d3d43f05ba2f3a2cb0d"
   }
  }
 },
 "nbformat": 4,
 "nbformat_minor": 2
}
