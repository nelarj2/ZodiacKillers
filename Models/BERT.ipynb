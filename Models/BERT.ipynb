{
 "cells": [
  {
   "cell_type": "code",
   "execution_count": 1,
   "metadata": {},
   "outputs": [
    {
     "name": "stdout",
     "output_type": "stream",
     "text": [
      "WARNING:tensorflow:Please fix your imports. Module tensorflow.python.training.tracking.data_structures has been moved to tensorflow.python.trackable.data_structures. The old module will be deleted in version 2.11.\n",
      "Epoch 1/2\n",
      "19/19 [==============================] - 417s 18s/step - loss: 0.5678 - accuracy: 0.7905\n",
      "Epoch 2/2\n",
      "19/19 [==============================] - 338s 18s/step - loss: 0.4775 - accuracy: 0.8260\n",
      "7/7 [==============================] - 107s 14s/step\n",
      "Macro: 0.4515235457063712\n",
      "Micro: 0.8232323232323232\n"
     ]
    }
   ],
   "source": [
    "## Code adapted from: https://www.analyticsvidhya.com/ + \n",
    "## blog/2021/12/text-classification-using-bert-and-tensorflow/\n",
    "\n",
    "import pandas as pd\n",
    "from sklearn.model_selection import train_test_split\n",
    "import tensorflow as tf\n",
    "import tensorflow_hub as hub\n",
    "import numpy as np\n",
    "from sklearn.metrics import accuracy_score\n",
    "from sklearn.metrics import f1_score\n",
    "from sklearn import metrics\n",
    "\n",
    "## Data\n",
    "df = pd.read_csv(\"../Data/prelim_dataset.csv\")\n",
    "\n",
    "## Split data for training and testing (default: 75% train / 25% test)\n",
    "X_train, X_test, y_train, y_test = train_test_split(df['text'],df['Islamophobic?'], stratify=df['Islamophobic?'], random_state = 0)\n",
    "\n",
    "bert_preprocess = hub.KerasLayer(\"https://tfhub.dev/tensorflow/bert_en_uncased_preprocess/3\")\n",
    "bert_encoder = hub.KerasLayer(\"https://tfhub.dev/tensorflow/bert_en_uncased_L-12_H-768_A-12/4\")\n",
    "## Bert layers\n",
    "text_input = tf.keras.layers.Input(shape=(), dtype=tf.string, name='text')\n",
    "preprocessed_text = bert_preprocess(text_input)\n",
    "outputs = bert_encoder(preprocessed_text)\n",
    "\n",
    "## Neural network layers\n",
    "l = tf.keras.layers.Dropout(0.1, name=\"dropout\")(outputs['pooled_output'])\n",
    "l = tf.keras.layers.Dense(1, activation='sigmoid', name=\"output\")(l)\n",
    "\n",
    "## Use inputs and outputs to construct a final model\n",
    "model = tf.keras.Model(inputs=[text_input], outputs = [l])\n",
    "model.compile(optimizer='adam', loss='binary_crossentropy', metrics=['accuracy'])\n",
    "model.fit(X_train, y_train, epochs=2, batch_size = 32)\n",
    "y_predicted = model.predict(X_test)\n",
    "y_predicted = y_predicted.flatten()\n",
    "\n",
    "## Threshold\n",
    "y_predicted = np.where(y_predicted > 0.5, 1, 0)\n",
    "\n",
    "## Metrics\n",
    "accuracy_score(y_test, y_predicted)\n",
    "print(\"Macro:\", f1_score(y_test, y_predicted, average='macro'))\n",
    "print(\"Micro:\", f1_score(y_test, y_predicted, average='micro'))\n",
    "print(metrics.classification_report(y_test, y_predicted))"
   ]
  }
 ],
 "metadata": {
  "kernelspec": {
   "display_name": "Python 3.9.1 64-bit",
   "language": "python",
   "name": "python3"
  },
  "language_info": {
   "codemirror_mode": {
    "name": "ipython",
    "version": 3
   },
   "file_extension": ".py",
   "mimetype": "text/x-python",
   "name": "python",
   "nbconvert_exporter": "python",
   "pygments_lexer": "ipython3",
   "version": "3.9.1"
  },
  "orig_nbformat": 4,
  "vscode": {
   "interpreter": {
    "hash": "81794d4967e6c3204c66dcd87b604927b115b27c00565d3d43f05ba2f3a2cb0d"
   }
  }
 },
 "nbformat": 4,
 "nbformat_minor": 2
}
