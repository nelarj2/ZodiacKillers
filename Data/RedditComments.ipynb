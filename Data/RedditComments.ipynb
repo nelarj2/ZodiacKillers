{
 "cells": [
  {
   "cell_type": "code",
   "execution_count": 3,
   "id": "fc161a34",
   "metadata": {},
   "outputs": [],
   "source": [
    "import praw\n",
    "from praw.models import MoreComments\n",
    "#connect to reddit and creating instance\n",
    "reddit = praw.Reddit(client_id='clientId', client_secret='clientsercret', user_agent='useragent')\n",
    "\n",
    "#removing emojis from data\n",
    "import re\n",
    "import datetime\n",
    "def remove_emojis(data):\n",
    "    emoj = re.compile(\"[\"\n",
    "        u\"\\U0001F600-\\U0001F64F\"  # emoticons\n",
    "        u\"\\U0001F300-\\U0001F5FF\"  # symbols & pictographs\n",
    "        u\"\\U0001F680-\\U0001F6FF\"  # transport & map symbols\n",
    "        u\"\\U0001F1E0-\\U0001F1FF\"  # flags (iOS)\n",
    "        u\"\\U00002500-\\U00002BEF\"  # chinese char\n",
    "        u\"\\U00002702-\\U000027B0\"\n",
    "        u\"\\U00002702-\\U000027B0\"\n",
    "        u\"\\U000024C2-\\U0001F251\"\n",
    "        u\"\\U0001f926-\\U0001f937\"\n",
    "        u\"\\U00010000-\\U0010ffff\"\n",
    "        u\"\\u2640-\\u2642\" \n",
    "        u\"\\u2600-\\u2B55\"\n",
    "        u\"\\u200d\"\n",
    "        u\"\\u23cf\"\n",
    "        u\"\\u23e9\"\n",
    "        u\"\\u231a\"\n",
    "        u\"\\ufe0f\"  # dingbats\n",
    "        u\"\\u3030\"\n",
    "                      \"]+\", re.UNICODE)\n",
    "    return re.sub(emoj, '', data)"
   ]
  },
  {
   "cell_type": "code",
   "execution_count": 11,
   "id": "93f192f2",
   "metadata": {},
   "outputs": [],
   "source": [
    "from praw.models import MoreComments\n",
    "#url of subreddit\n",
    "url = \"url\"\n",
    "\n",
    "#getting comments and sub comments\n",
    "submission = reddit.submission(url=url)\n",
    "submission.comments.replace_more(limit=0)\n",
    "import datetime\n",
    "for top_level_comment in submission.comments:\n",
    "    if isinstance(top_level_comment, MoreComments):\n",
    "        continue\n",
    "    unix_time = top_level_comment.created_utc \n",
    "#creating the csv\n",
    "import csv\n",
    "with open('redditComments.csv', 'w',  encoding='utf-8-sig',newline='') as csvfile:\n",
    "    fieldnames = ['Islamophobic','Text','Source','Publication Date']\n",
    "    writer = csv.DictWriter(csvfile, fieldnames=fieldnames)\n",
    "    writer.writeheader()\n",
    "    for top_level_comment in submission.comments:\n",
    "        if isinstance(top_level_comment, MoreComments):\n",
    "            continue\n",
    "        comment = remove_emojis(top_level_comment.body)\n",
    "        unix_time = top_level_comment.created_utc\n",
    "        time = str(datetime.date.fromtimestamp(unix_time))\n",
    "        #adding to csv file\n",
    "        writer.writerow({'Islamophobic':0,'Text': top_level_comment.body,'Source':'Reddit','Publication Date':time})\n"
   ]
  }
 ],
 "metadata": {
  "kernelspec": {
   "display_name": "Python 3 (ipykernel)",
   "language": "python",
   "name": "python3"
  },
  "language_info": {
   "codemirror_mode": {
    "name": "ipython",
    "version": 3
   },
   "file_extension": ".py",
   "mimetype": "text/x-python",
   "name": "python",
   "nbconvert_exporter": "python",
   "pygments_lexer": "ipython3",
   "version": "3.9.12"
  }
 },
 "nbformat": 4,
 "nbformat_minor": 5
}
