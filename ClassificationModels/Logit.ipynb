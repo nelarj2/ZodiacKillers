{
 "cells": [
  {
   "cell_type": "code",
   "execution_count": 63,
   "metadata": {},
   "outputs": [
    {
     "name": "stdout",
     "output_type": "stream",
     "text": [
      "Macro: 0.6940312922542013\n",
      "Micro: 0.8383838383838383\n",
      "              precision    recall  f1-score   support\n",
      "\n",
      "         0.0       0.89      0.92      0.90       164\n",
      "         1.0       0.54      0.44      0.48        34\n",
      "\n",
      "    accuracy                           0.84       198\n",
      "   macro avg       0.71      0.68      0.69       198\n",
      "weighted avg       0.83      0.84      0.83       198\n",
      "\n"
     ]
    }
   ],
   "source": [
    "# Code adapted from UIUC PS 590: Images and Text as Data\n",
    "# by Prof. Nora Webb Williams. She adapted from adapted \n",
    "# from Diyi Yang and crew at Georgia Tech.\n",
    "from sklearn.model_selection import train_test_split\n",
    "from sklearn.feature_extraction.text import TfidfVectorizer\n",
    "import pandas as pd\n",
    "from sklearn.feature_extraction.text import TfidfVectorizer\n",
    "from sklearn.metrics import accuracy_score\n",
    "from sklearn.metrics import f1_score\n",
    "\n",
    "df = pd.read_csv(\"../TwitterData/prelim_dataset.csv\")\n",
    "df\n",
    "text = df['text'].to_list()\n",
    "labels = df['Islamophobic?'].to_list()\n",
    "\n",
    "tfidf = TfidfVectorizer(ngram_range=(1, 2), stop_words='english')\n",
    "features = tfidf.fit_transform(text)\n",
    "\n",
    "# We first split the original data into train and test set\n",
    "X_train, X_test, y_train, y_test = train_test_split(text, labels, random_state = 0)\n",
    "# TODO: More text pre-processing?\n",
    "# Extract features\n",
    "tfidf = TfidfVectorizer(ngram_range=(1, 2), stop_words='english')\n",
    "tfidf.fit(X_train)\n",
    "X_train_features = tfidf.transform(X_train)\n",
    "X_test_features = tfidf.transform(X_test)\n",
    "\n",
    "from sklearn.naive_bayes import MultinomialNB\n",
    "# Logistic Regression Classifier\n",
    "from sklearn.linear_model import LogisticRegression\n",
    "# Linear Support Vector Machine\n",
    "from sklearn.svm import LinearSVC\n",
    "from sklearn.naive_bayes import BernoulliNB\n",
    "from sklearn import metrics\n",
    "# NOTE: Substitute in MultinomialNB, LogisticRegression, LinearSVC, BernoulliNB\n",
    "# only LogisticRegression and LinearSVC accept class weights\n",
    "# Also note that the class weights should be proportional to how often the labels\n",
    "# appear in the data set (if only a fifth of the data is labeled as 1, then 1 gets a\n",
    "# weight of 5)\n",
    "clf = LinearSVC(class_weight={0: 1, 1: 5}).fit(X_train_features, y_train)\n",
    "\n",
    "# predict labels for test data\n",
    "y_pred = clf.predict(X_test_features)\n",
    "\n",
    "# Metrics\n",
    "accuracy_score(y_test, y_pred)\n",
    "print(\"Macro:\", f1_score(y_test, y_pred, average='macro'))\n",
    "print(\"Micro:\", f1_score(y_test, y_pred, average='micro'))\n",
    "\n",
    "# f1_score(y_test, y_pred, average='micro')\n",
    "print(metrics.classification_report(y_test, y_pred))"
   ]
  },
  {
   "cell_type": "code",
   "execution_count": 62,
   "metadata": {},
   "outputs": [
    {
     "name": "stdout",
     "output_type": "stream",
     "text": [
      "1.0\n"
     ]
    }
   ],
   "source": [
    "from sklearn.feature_extraction.text import TfidfVectorizer\n",
    "import pandas as pd\n",
    "from sklearn.svm import LinearSVC\n",
    "\n",
    "\n",
    "df = pd.read_csv(\"../TwitterData/prelim_dataset.csv\")\n",
    "text = df['text'].to_list()\n",
    "labels = df['Islamophobic?'].to_list()\n",
    "\n",
    "tfidf = TfidfVectorizer(ngram_range=(1, 2), stop_words='english')\n",
    "features = tfidf.fit_transform(text)\n",
    " \n",
    "clf = LinearSVC(class_weight={0: 1, 1: 5}).fit(features, labels)\n",
    "\n",
    "predict = tfidf.transform(['I hate muslism. Islam is the worst religion.'])\n",
    "y_pred = clf.predict(predict)\n",
    "print(y_pred[0])\n"
   ]
  }
 ],
 "metadata": {
  "kernelspec": {
   "display_name": "Python 3.9.1 64-bit",
   "language": "python",
   "name": "python3"
  },
  "language_info": {
   "codemirror_mode": {
    "name": "ipython",
    "version": 3
   },
   "file_extension": ".py",
   "mimetype": "text/x-python",
   "name": "python",
   "nbconvert_exporter": "python",
   "pygments_lexer": "ipython3",
   "version": "3.9.1"
  },
  "orig_nbformat": 4,
  "vscode": {
   "interpreter": {
    "hash": "81794d4967e6c3204c66dcd87b604927b115b27c00565d3d43f05ba2f3a2cb0d"
   }
  }
 },
 "nbformat": 4,
 "nbformat_minor": 2
}
